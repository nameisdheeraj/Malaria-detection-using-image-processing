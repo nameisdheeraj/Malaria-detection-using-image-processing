{
  "nbformat": 4,
  "nbformat_minor": 0,
  "metadata": {
    "colab": {
      "name": "Malaria Detection (CNN).ipynb",
      "provenance": [],
      "collapsed_sections": [],
      "mount_file_id": "13mu4jQlkTGNZTxacYXYQPJlhThJq-XRC",
      "authorship_tag": "ABX9TyP8oBgargFFe2cFUn6TQhPE",
      "include_colab_link": true
    },
    "kernelspec": {
      "name": "python3",
      "display_name": "Python 3"
    },
    "accelerator": "GPU"
  },
  "cells": [
    {
      "cell_type": "markdown",
      "metadata": {
        "id": "view-in-github",
        "colab_type": "text"
      },
      "source": [
        "<a href=\"https://colab.research.google.com/github/nameisdheeraj/Malaria-detection-using-image-processing/blob/main/Malaria_Detection_(CNN).ipynb\" target=\"_parent\"><img src=\"https://colab.research.google.com/assets/colab-badge.svg\" alt=\"Open In Colab\"/></a>"
      ]
    },
    {
      "cell_type": "code",
      "metadata": {
        "id": "4wliV1JA10p4"
      },
      "source": [
        "import os\r\n",
        "import matplotlib.pyplot as plt\r\n",
        "import cv2\r\n",
        "import numpy as np\r\n",
        "import pickle as pickle\r\n"
      ],
      "execution_count": null,
      "outputs": []
    },
    {
      "cell_type": "code",
      "metadata": {
        "id": "Vvhnk98V1-AM"
      },
      "source": [
        "# infected_images = os.listdir('/content/drive/MyDrive/Kaggle/Datasets/malaria/cell_images/Parasitized')\r\n",
        "# infected_path = '/content/drive/MyDrive/Kaggle/Datasets/malaria/cell_images/Parasitized'\r\n",
        "\r\n",
        "# uninfected_images = os.listdir('/content/drive/MyDrive/Kaggle/Datasets/malaria/cell_images/Uninfected')\r\n",
        "# uninfected_path = '/content/drive/MyDrive/Kaggle/Datasets/malaria/cell_images/Uninfected'\r\n",
        "\r\n",
        "# print(len(infected_images))\r\n",
        "# print(len(uninfected_images))"
      ],
      "execution_count": null,
      "outputs": []
    },
    {
      "cell_type": "code",
      "metadata": {
        "colab": {
          "base_uri": "https://localhost:8080/"
        },
        "id": "joaVcNZj2xiK",
        "outputId": "99e732e4-a1e9-4bdb-edf0-dda14a251270"
      },
      "source": [
        "# x = []\r\n",
        "# y = []\r\n",
        "\r\n",
        "# for img in infected_images:\r\n",
        "#   actual_image = cv2.imread(infected_path + '/' + img)\r\n",
        "#   print(\"\\r\",end=\"\")\r\n",
        "#   print(\"\\rProcessed {0} images\".format(img),end=\"\")\r\n",
        "#   final_image = cv2.resize(actual_image, (128,128), interpolation = cv2.INTER_CUBIC)\r\n",
        "#   x.append(final_image)\r\n",
        "#   y.append(1)\r\n",
        "\r\n",
        "# for img in uninfected_images:\r\n",
        "#   actual_image = cv2.imread(uninfected_path + '/' + img)\r\n",
        "#   print(\"\\r\",end=\"\")\r\n",
        "#   print(\"\\rProcessed {0} images\".format(img),end=\"\")\r\n",
        "#   final_image = cv2.resize(actual_image, (128,128), interpolation = cv2.INTER_CUBIC)\r\n",
        "#   x.append(final_image)\r\n",
        "#   y.append(0)"
      ],
      "execution_count": null,
      "outputs": [
        {
          "output_type": "stream",
          "text": [
            "Processed C109P70ThinF_IMG_20150930_103214_cell_54.png images"
          ],
          "name": "stdout"
        }
      ]
    },
    {
      "cell_type": "code",
      "metadata": {
        "id": "hXVBav05TD0f"
      },
      "source": [
        "# with open( \"/content/drive/MyDrive/Kaggle/Projects/Malaria detection/x.p\", \"wb\" ) as pickle_f:\r\n",
        "#     pickle.dump(x, pickle_f )\r\n",
        "\r\n",
        "# with open( \"/content/drive/MyDrive/Kaggle/Projects/Malaria detection/y.p\", \"wb\" ) as pickle_f:\r\n",
        "#     pickle.dump(y, pickle_f )\r\n"
      ],
      "execution_count": null,
      "outputs": []
    },
    {
      "cell_type": "code",
      "metadata": {
        "id": "oO8kEZB3TybB",
        "colab": {
          "base_uri": "https://localhost:8080/"
        },
        "outputId": "343a3752-bce1-449b-cf8a-9610edb6b601"
      },
      "source": [
        "x = pickle.load(open('/content/drive/MyDrive/Kaggle/Projects/Malaria detection/x.p', 'rb'))\r\n",
        "y = pickle.load(open('/content/drive/MyDrive/Kaggle/Projects/Malaria detection/y.p', 'rb'))\r\n",
        "\r\n",
        "x = np.array(x)\r\n",
        "y = np.array(y)\r\n",
        "\r\n",
        "print(len(x),len(y))"
      ],
      "execution_count": null,
      "outputs": [
        {
          "output_type": "stream",
          "text": [
            "27558 27558\n"
          ],
          "name": "stdout"
        }
      ]
    },
    {
      "cell_type": "code",
      "metadata": {
        "id": "Mhs1aljiiPoS"
      },
      "source": [
        "from sklearn.model_selection import train_test_split\r\n",
        "from tensorflow.keras.utils import to_categorical\r\n",
        "\r\n",
        "x_train, x_valid, y_train, y_valid = train_test_split(x, y, random_state=101, test_size=0.2)\r\n",
        "y_train = to_categorical(y_train, num_classes = 2)\r\n",
        "y_valid = to_categorical(y_valid, num_classes = 2)"
      ],
      "execution_count": null,
      "outputs": []
    },
    {
      "cell_type": "code",
      "metadata": {
        "colab": {
          "base_uri": "https://localhost:8080/"
        },
        "id": "ev5LnjS57HsL",
        "outputId": "bab14ca3-09b2-4cc3-f844-b62cec24b8b1"
      },
      "source": [
        "print(x_train.shape)\r\n",
        "print(x_valid.shape)\r\n",
        "print(y_train.shape)\r\n",
        "print(y_valid.shape)"
      ],
      "execution_count": null,
      "outputs": [
        {
          "output_type": "stream",
          "text": [
            "(22046, 128, 128, 3)\n",
            "(5512, 128, 128, 3)\n",
            "(22046, 2)\n",
            "(5512, 2)\n"
          ],
          "name": "stdout"
        }
      ]
    },
    {
      "cell_type": "code",
      "metadata": {
        "colab": {
          "base_uri": "https://localhost:8080/"
        },
        "id": "d6w9reKY3QN8",
        "outputId": "b195ee48-c60e-499f-9568-de461b0f2873"
      },
      "source": [
        "y_train[:5]"
      ],
      "execution_count": null,
      "outputs": [
        {
          "output_type": "execute_result",
          "data": {
            "text/plain": [
              "array([[1., 0.],\n",
              "       [1., 0.],\n",
              "       [0., 1.],\n",
              "       [0., 1.],\n",
              "       [0., 1.]], dtype=float32)"
            ]
          },
          "metadata": {
            "tags": []
          },
          "execution_count": 5
        }
      ]
    },
    {
      "cell_type": "code",
      "metadata": {
        "id": "nP-RWa2h_fux"
      },
      "source": [
        "os.environ['PYTHONHASHSEED'] = str(2)\r\n",
        "import tensorflow as tf\r\n",
        "import keras\r\n",
        "from tensorflow.keras.layers import Input,Conv2D,Dense,Flatten,Dropout,MaxPooling2D\r\n",
        "from tensorflow.keras.optimizers import Adam\r\n",
        "from tensorflow.keras import Model\r\n",
        "\r\n",
        "from tensorflow.random import set_seed\r\n",
        "set_seed(2)"
      ],
      "execution_count": null,
      "outputs": []
    },
    {
      "cell_type": "code",
      "metadata": {
        "colab": {
          "base_uri": "https://localhost:8080/"
        },
        "id": "4Y1SPv0pB3bk",
        "outputId": "86eb60b3-f5f9-46e0-8f29-9132e4c0ee3b"
      },
      "source": [
        "# tf.keras.backend.clear_session()\r\n",
        "# model.reset_states()\r\n",
        "\r\n",
        "input_layer = Input([128,128,3])\r\n",
        "conv1 = Conv2D(filters = 128, kernel_size = (3,3), padding='same', activation='relu')(input_layer)\r\n",
        "pool1 = MaxPooling2D(pool_size = (2,2))(conv1)\r\n",
        "\r\n",
        "conv2 = Conv2D(filters = 64, kernel_size = (3,3), padding = 'same', activation='relu')(pool1)\r\n",
        "pool2 = MaxPooling2D(pool_size = (2,2), strides = (2,2))(conv2)\r\n",
        "\r\n",
        "conv3 = Conv2D(filters = 32, kernel_size = (3,3), padding='same', activation='relu')(pool2)\r\n",
        "pool3 = MaxPooling2D(pool_size= (2,2), strides = (2,2))(conv3)\r\n",
        "\r\n",
        "conv4 = Conv2D(filters = 32, kernel_size = (3,3), padding='same', activation='relu')(pool2)\r\n",
        "pool4 = MaxPooling2D(pool_size= (2,2), strides = (2,2))(conv4)\r\n",
        "\r\n",
        "flatten = Flatten()(pool3)\r\n",
        "dense1 = Dense(512, activation='relu')(flatten)\r\n",
        "output_layer = Dense(2, activation='sigmoid')(dense1)\r\n",
        "\r\n",
        "model = Model(input_layer, output_layer)\r\n",
        "\r\n",
        "model.summary()"
      ],
      "execution_count": null,
      "outputs": [
        {
          "output_type": "stream",
          "text": [
            "Model: \"model\"\n",
            "_________________________________________________________________\n",
            "Layer (type)                 Output Shape              Param #   \n",
            "=================================================================\n",
            "input_1 (InputLayer)         [(None, 128, 128, 3)]     0         \n",
            "_________________________________________________________________\n",
            "conv2d (Conv2D)              (None, 128, 128, 128)     3584      \n",
            "_________________________________________________________________\n",
            "max_pooling2d (MaxPooling2D) (None, 64, 64, 128)       0         \n",
            "_________________________________________________________________\n",
            "conv2d_1 (Conv2D)            (None, 64, 64, 64)        73792     \n",
            "_________________________________________________________________\n",
            "max_pooling2d_1 (MaxPooling2 (None, 32, 32, 64)        0         \n",
            "_________________________________________________________________\n",
            "conv2d_2 (Conv2D)            (None, 32, 32, 32)        18464     \n",
            "_________________________________________________________________\n",
            "max_pooling2d_2 (MaxPooling2 (None, 16, 16, 32)        0         \n",
            "_________________________________________________________________\n",
            "flatten (Flatten)            (None, 8192)              0         \n",
            "_________________________________________________________________\n",
            "dense (Dense)                (None, 512)               4194816   \n",
            "_________________________________________________________________\n",
            "dense_1 (Dense)              (None, 2)                 1026      \n",
            "=================================================================\n",
            "Total params: 4,291,682\n",
            "Trainable params: 4,291,682\n",
            "Non-trainable params: 0\n",
            "_________________________________________________________________\n"
          ],
          "name": "stdout"
        }
      ]
    },
    {
      "cell_type": "code",
      "metadata": {
        "id": "g-AIB4caJzFM"
      },
      "source": [
        "model.compile(optimizer = 'adam', loss = 'binary_crossentropy', metrics = ['accuracy'])"
      ],
      "execution_count": null,
      "outputs": []
    },
    {
      "cell_type": "code",
      "metadata": {
        "colab": {
          "base_uri": "https://localhost:8080/"
        },
        "id": "S5ayHf-ZKAWt",
        "outputId": "655f4419-fb50-4848-a4bf-b35d1a67e698"
      },
      "source": [
        "history = model.fit(x_train,y_train, batch_size = 32, epochs=15, verbose=1, validation_split=0.2)"
      ],
      "execution_count": null,
      "outputs": [
        {
          "output_type": "stream",
          "text": [
            "Epoch 1/15\n",
            "552/552 [==============================] - 24s 36ms/step - loss: 3.1736 - accuracy: 0.5764 - val_loss: 0.6575 - val_accuracy: 0.6129\n",
            "Epoch 2/15\n",
            "552/552 [==============================] - 19s 35ms/step - loss: 0.6138 - accuracy: 0.6627 - val_loss: 0.6439 - val_accuracy: 0.6363\n",
            "Epoch 3/15\n",
            "552/552 [==============================] - 19s 35ms/step - loss: 0.5212 - accuracy: 0.7378 - val_loss: 0.2016 - val_accuracy: 0.9408\n",
            "Epoch 4/15\n",
            "552/552 [==============================] - 19s 34ms/step - loss: 0.1474 - accuracy: 0.9510 - val_loss: 0.1708 - val_accuracy: 0.9472\n",
            "Epoch 5/15\n",
            "552/552 [==============================] - 19s 34ms/step - loss: 0.0800 - accuracy: 0.9744 - val_loss: 0.1962 - val_accuracy: 0.9420\n",
            "Epoch 6/15\n",
            "552/552 [==============================] - 19s 34ms/step - loss: 0.0431 - accuracy: 0.9876 - val_loss: 0.2338 - val_accuracy: 0.9440\n",
            "Epoch 7/15\n",
            "552/552 [==============================] - 19s 34ms/step - loss: 0.0274 - accuracy: 0.9912 - val_loss: 0.2902 - val_accuracy: 0.9395\n",
            "Epoch 8/15\n",
            "552/552 [==============================] - 19s 34ms/step - loss: 0.0249 - accuracy: 0.9920 - val_loss: 0.3175 - val_accuracy: 0.9426\n",
            "Epoch 9/15\n",
            "552/552 [==============================] - 19s 34ms/step - loss: 0.2657 - accuracy: 0.9622 - val_loss: 0.3326 - val_accuracy: 0.9410\n",
            "Epoch 10/15\n",
            "552/552 [==============================] - 19s 34ms/step - loss: 0.0168 - accuracy: 0.9954 - val_loss: 0.4035 - val_accuracy: 0.9304\n",
            "Epoch 11/15\n",
            "552/552 [==============================] - 19s 34ms/step - loss: 0.0331 - accuracy: 0.9893 - val_loss: 0.4730 - val_accuracy: 0.9485\n",
            "Epoch 12/15\n",
            "552/552 [==============================] - 19s 34ms/step - loss: 0.0045 - accuracy: 0.9989 - val_loss: 0.4841 - val_accuracy: 0.9342\n",
            "Epoch 13/15\n",
            "552/552 [==============================] - 19s 34ms/step - loss: 0.0093 - accuracy: 0.9978 - val_loss: 0.5696 - val_accuracy: 0.9356\n",
            "Epoch 14/15\n",
            "552/552 [==============================] - 19s 34ms/step - loss: 0.0050 - accuracy: 0.9985 - val_loss: 0.5520 - val_accuracy: 0.9381\n",
            "Epoch 15/15\n",
            "552/552 [==============================] - 19s 34ms/step - loss: 0.0313 - accuracy: 0.9918 - val_loss: 0.4871 - val_accuracy: 0.9399\n"
          ],
          "name": "stdout"
        }
      ]
    },
    {
      "cell_type": "code",
      "metadata": {
        "id": "q0C03VnTy9ZF"
      },
      "source": [
        "model.save('/content/drive/MyDrive/Kaggle/Projects/Malaria detection/model_2.h5')"
      ],
      "execution_count": null,
      "outputs": []
    },
    {
      "cell_type": "code",
      "metadata": {
        "id": "na2PwUHaCLV1"
      },
      "source": [
        "with open('/content/drive/MyDrive/Kaggle/Projects/Malaria detection/model_2_history.p','wb') as pickle_f:\r\n",
        "  pickle.dump(history.history,pickle_f)"
      ],
      "execution_count": null,
      "outputs": []
    },
    {
      "cell_type": "markdown",
      "metadata": {
        "id": "R9QD7_F1FMsW"
      },
      "source": [
        "# Model 1 \r\n"
      ]
    },
    {
      "cell_type": "code",
      "metadata": {
        "id": "x05xv4e4HKVv"
      },
      "source": [
        "from keras.models import load_model \r\n",
        "loaded_model_1 = load_model('/content/drive/MyDrive/Kaggle/Projects/Malaria detection/model_1.h5')"
      ],
      "execution_count": null,
      "outputs": []
    },
    {
      "cell_type": "code",
      "metadata": {
        "colab": {
          "base_uri": "https://localhost:8080/"
        },
        "id": "xoqDWruqQyUQ",
        "outputId": "06907241-fdc3-4208-b28a-040b6975b56d"
      },
      "source": [
        "from sklearn.metrics import classification_report\r\n",
        "pred_model_1 = loaded_model_1.predict(x_valid)\r\n",
        "print(classification_report(np.argmax(y_valid, axis = 1),np.argmax(pred_model_1, axis = 1)))"
      ],
      "execution_count": null,
      "outputs": [
        {
          "output_type": "stream",
          "text": [
            "              precision    recall  f1-score   support\n",
            "\n",
            "           0       0.95      0.94      0.94      2721\n",
            "           1       0.94      0.95      0.95      2791\n",
            "\n",
            "    accuracy                           0.95      5512\n",
            "   macro avg       0.95      0.94      0.95      5512\n",
            "weighted avg       0.95      0.95      0.95      5512\n",
            "\n"
          ],
          "name": "stdout"
        }
      ]
    },
    {
      "cell_type": "code",
      "metadata": {
        "id": "fh8pxfBoyB86"
      },
      "source": [
        "def plot_confusion_matrix(cm, classes,\r\n",
        "                        normalize = False,\r\n",
        "                        title='Confusion matrix',\r\n",
        "                        cmap=plt.cm.Blues):\r\n",
        "    \"\"\"\r\n",
        "    This function prints and plots the confusion matrix.\r\n",
        "    Normalization can be applied by setting `normalize=True`.\r\n",
        "    \"\"\"\r\n",
        "    plt.imshow(cm, interpolation='nearest', cmap=cmap)\r\n",
        "    plt.title(title)\r\n",
        "    plt.colorbar()\r\n",
        "    tick_marks = np.arange(len(classes))\r\n",
        "    plt.xticks(tick_marks, classes, rotation=45)\r\n",
        "    plt.yticks(tick_marks, classes)\r\n",
        "\r\n",
        "    if normalize:\r\n",
        "        cm = cm.astype('float') / cm.sum(axis=1)[:, np.newaxis]\r\n",
        "        print(\"Normalized confusion matrix\")\r\n",
        "    else:\r\n",
        "        print('Confusion matrix without normalization')\r\n",
        "\r\n",
        "    print(cm)\r\n",
        "\r\n",
        "    thresh = cm.max() / 2.\r\n",
        "    for i, j in itertools.product(range(cm.shape[0]), range(cm.shape[1])):\r\n",
        "        plt.text(j, i, cm[i, j],\r\n",
        "            horizontalalignment=\"center\",\r\n",
        "            color=\"white\" if cm[i, j] > thresh else \"black\")\r\n",
        "\r\n",
        "    plt.tight_layout()\r\n",
        "    plt.ylabel('True label')\r\n",
        "    plt.xlabel('Predicted label')"
      ],
      "execution_count": null,
      "outputs": []
    },
    {
      "cell_type": "code",
      "metadata": {
        "colab": {
          "base_uri": "https://localhost:8080/",
          "height": 364
        },
        "id": "l8C6ZGhEyTDy",
        "outputId": "aaa06ee0-4dd0-41b0-e3a4-70d5fdd8d7fe"
      },
      "source": [
        "from sklearn.metrics import confusion_matrix\r\n",
        "import itertools  \r\n",
        "cm_plot_labels = ['Uninfected', 'Parasitized']\r\n",
        "cm = confusion_matrix(np.argmax(y_valid, axis = 1),np.argmax(pred_model_1, axis = 1))\r\n",
        "plot_confusion_matrix(cm = cm , classes= cm_plot_labels , title='Confution Matrix')"
      ],
      "execution_count": null,
      "outputs": [
        {
          "output_type": "stream",
          "text": [
            "Confusion matrix without normalization\n",
            "[[2557  164]\n",
            " [ 139 2652]]\n"
          ],
          "name": "stdout"
        },
        {
          "output_type": "display_data",
          "data": {
            "image/png": "[encoded data removed]",
            "text/plain": [
              "<Figure size 432x288 with 2 Axes>"
            ]
          },
          "metadata": {
            "tags": [],
            "needs_background": "light"
          }
        }
      ]
    },
    {
      "cell_type": "markdown",
      "metadata": {
        "id": "bEk0b7H3EmjB"
      },
      "source": [
        "#Model 2"
      ]
    },
    {
      "cell_type": "code",
      "metadata": {
        "id": "VJQqXZwFErrk"
      },
      "source": [
        "loaded_model_2 = load_model('/content/drive/MyDrive/Kaggle/Projects/Malaria detection/model_2.h5')"
      ],
      "execution_count": null,
      "outputs": []
    },
    {
      "cell_type": "code",
      "metadata": {
        "id": "mh0doLnU2HxK"
      },
      "source": [
        "history_model_2 = pickle.load(open('/content/drive/MyDrive/Kaggle/Projects/Malaria detection/model_2_history.p','rb'))"
      ],
      "execution_count": null,
      "outputs": []
    },
    {
      "cell_type": "code",
      "metadata": {
        "id": "Q9rFoXr1QWm8",
        "colab": {
          "base_uri": "https://localhost:8080/"
        },
        "outputId": "18dcf923-1949-404f-dd41-ffced88f1a50"
      },
      "source": [
        "history_model_2.keys()"
      ],
      "execution_count": null,
      "outputs": [
        {
          "output_type": "execute_result",
          "data": {
            "text/plain": [
              "dict_keys(['loss', 'accuracy', 'val_loss', 'val_accuracy'])"
            ]
          },
          "metadata": {
            "tags": []
          },
          "execution_count": 4
        }
      ]
    },
    {
      "cell_type": "code",
      "metadata": {
        "colab": {
          "base_uri": "https://localhost:8080/",
          "height": 295
        },
        "id": "VghSnzPeQkPY",
        "outputId": "d823b960-35cc-4c81-e89b-c4b1fb2c5260"
      },
      "source": [
        "fig = plt.figure()\r\n",
        "ax = fig.add_subplot(111)\r\n",
        "ax.set_facecolor('w')\r\n",
        "ax.grid(b=False)\r\n",
        "ax.plot(history_model_2['accuracy'], color='red')\r\n",
        "ax.plot(history_model_2['val_accuracy'], color ='green')\r\n",
        "plt.title('model accuracy')\r\n",
        "plt.ylabel('accuracy')\r\n",
        "plt.xlabel('epoch')\r\n",
        "plt.legend(['train', 'test'], loc='lower right')\r\n",
        "plt.show()"
      ],
      "execution_count": null,
      "outputs": [
        {
          "output_type": "display_data",
          "data": {
            "image/png": "[encoded data removed]",
            "text/plain": [
              "<Figure size 432x288 with 1 Axes>"
            ]
          },
          "metadata": {
            "tags": [],
            "needs_background": "light"
          }
        }
      ]
    },
    {
      "cell_type": "code",
      "metadata": {
        "colab": {
          "base_uri": "https://localhost:8080/"
        },
        "id": "n82ui9MrFFN6",
        "outputId": "6db8199e-6373-4589-f4db-3929f233e63c"
      },
      "source": [
        "from sklearn.metrics import classification_report\r\n",
        "pred_model_2 = loaded_model_2.predict(x_valid)\r\n",
        "print(classification_report(np.argmax(y_valid, axis = 1),np.argmax(pred_model_2, axis = 1)))"
      ],
      "execution_count": null,
      "outputs": [
        {
          "output_type": "stream",
          "text": [
            "              precision    recall  f1-score   support\n",
            "\n",
            "           0       0.92      0.96      0.94      2721\n",
            "           1       0.95      0.92      0.94      2791\n",
            "\n",
            "    accuracy                           0.94      5512\n",
            "   macro avg       0.94      0.94      0.94      5512\n",
            "weighted avg       0.94      0.94      0.94      5512\n",
            "\n"
          ],
          "name": "stdout"
        }
      ]
    },
    {
      "cell_type": "code",
      "metadata": {
        "colab": {
          "base_uri": "https://localhost:8080/",
          "height": 364
        },
        "id": "bzGNOprEE-Qb",
        "outputId": "e82fe66a-28c3-45ca-b575-5954c6ac4838"
      },
      "source": [
        "from sklearn.metrics import confusion_matrix\r\n",
        "import itertools  \r\n",
        "cm_plot_labels = ['Uninfected', 'Parasitized']\r\n",
        "cm = confusion_matrix(np.argmax(y_valid, axis = 1),np.argmax(pred_model_2, axis = 1))\r\n",
        "plot_confusion_matrix(cm = cm , classes= cm_plot_labels , title='Confution Matrix')"
      ],
      "execution_count": null,
      "outputs": [
        {
          "output_type": "stream",
          "text": [
            "Confusion matrix without normalization\n",
            "[[2600  121]\n",
            " [ 232 2559]]\n"
          ],
          "name": "stdout"
        },
        {
          "output_type": "display_data",
          "data": {
            "image/png": "[encoded data removed]",
            "text/plain": [
              "<Figure size 432x288 with 2 Axes>"
            ]
          },
          "metadata": {
            "tags": [],
            "needs_background": "light"
          }
        }
      ]
    }
  ]
}